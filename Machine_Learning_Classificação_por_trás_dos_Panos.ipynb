{
  "nbformat": 4,
  "nbformat_minor": 0,
  "metadata": {
    "colab": {
      "name": "Machine Learning: Classificação por trás dos Panos",
      "provenance": []
    },
    "kernelspec": {
      "name": "python3",
      "display_name": "Python 3"
    },
    "language_info": {
      "name": "python"
    }
  },
  "cells": [
    {
      "cell_type": "markdown",
      "metadata": {
        "id": "CH1z_O-fkhBG"
      },
      "source": [
        "# Aula 01: Classificando emails, animais e muito mais"
      ]
    },
    {
      "cell_type": "markdown",
      "metadata": {
        "id": "CHlxXbrBnzue"
      },
      "source": [
        "## Porcos e Cachorros"
      ]
    },
    {
      "cell_type": "code",
      "metadata": {
        "id": "zO4TkgcfkA4R"
      },
      "source": [
        "import numpy as np\n",
        "import scipy as scp\n",
        "import pandas as pd\n",
        "from sklearn.naive_bayes import MultinomialNB"
      ],
      "execution_count": null,
      "outputs": []
    },
    {
      "cell_type": "code",
      "metadata": {
        "colab": {
          "base_uri": "https://localhost:8080/"
        },
        "id": "Qht0OfSjkSnM",
        "outputId": "b6573fff-c3c3-4ed4-a06d-23b7f60756d0"
      },
      "source": [
        "porco1 = [1, 1, 0]\n",
        "porco2 = [1, 1, 0]\n",
        "porco3 = [1, 1, 0]\n",
        "cachorro4 = [1, 1, 1]\n",
        "cachorro5 = [0, 1, 1]\n",
        "cachorro6 = [0, 1, 1]\n",
        "\n",
        "dados = [porco1, porco2, porco3, cachorro4, cachorro5, cachorro6]\n",
        "\n",
        "marcacoes = [1, 1, 1, -1, -1, -1]\n",
        "\n",
        "from sklearn.naive_bayes import MultinomialNB\n",
        "\n",
        "modelo = MultinomialNB()\n",
        "modelo.fit(dados, marcacoes)\n",
        "\n",
        "misterioso1 = [1, 1, 1]\n",
        "misterioso2 = [1, 0, 0]\n",
        "misterioso3 = [0, 0, 1]\n",
        "\n",
        "teste = [misterioso1, misterioso2, misterioso3]\n",
        "\n",
        "resultado = modelo.predict(teste)\n",
        "\n",
        "print(resultado)"
      ],
      "execution_count": null,
      "outputs": [
        {
          "output_type": "stream",
          "text": [
            "[-1  1 -1]\n"
          ],
          "name": "stdout"
        }
      ]
    },
    {
      "cell_type": "code",
      "metadata": {
        "colab": {
          "base_uri": "https://localhost:8080/"
        },
        "id": "9yW-goLUmJXz",
        "outputId": "0af85bf6-de0e-42d8-84e1-2e2350f191b2"
      },
      "source": [
        "marcacoes_teste = [-1,1,-1]\n",
        "\n",
        "diferencas = resultado - marcacoes_teste\n",
        "\n",
        "acertos = [d for d in diferencas if d == 0]\n",
        "\n",
        "total_de_acertos = len(acertos)\n",
        "total_de_elementos = len(teste)\n",
        "\n",
        "taxa_de_acerto = 100.0 * total_de_acertos / total_de_elementos\n",
        "\n",
        "print(resultado)\n",
        "print(diferencas)\n",
        "print(taxa_de_acerto)"
      ],
      "execution_count": null,
      "outputs": [
        {
          "output_type": "stream",
          "text": [
            "[-1  1 -1]\n",
            "[0 0 0]\n",
            "100.0\n"
          ],
          "name": "stdout"
        }
      ]
    },
    {
      "cell_type": "markdown",
      "metadata": {
        "id": "H-XdtYXRn3Gf"
      },
      "source": [
        "# Aula 02: Importando, classificando e validando um modelo"
      ]
    },
    {
      "cell_type": "code",
      "metadata": {
        "id": "EQUqDux0m3xf"
      },
      "source": [
        "uri = '/content/drive/MyDrive/Estudo/Data Science/Datasets/acesso.csv'\n",
        "dados = pd.read_csv(uri)"
      ],
      "execution_count": null,
      "outputs": []
    },
    {
      "cell_type": "code",
      "metadata": {
        "id": "7JjCBamyoEya"
      },
      "source": [
        "x = dados[['acessou_home','acessou_como_funciona','acessou_contato']]\n",
        "y = dados.comprou"
      ],
      "execution_count": null,
      "outputs": []
    },
    {
      "cell_type": "markdown",
      "metadata": {
        "id": "zG_3t85Ho0kp"
      },
      "source": [
        "Outra forma de leitura:\n",
        "```\n",
        "import csv\n",
        "\n",
        "def carregar_acessos():\n",
        "    dados = []\n",
        "    marcacoes = []\n",
        "\n",
        "    arquivo = open('acesso.csv', 'r')\n",
        "    leitor = csv.reader(arquivo)\n",
        "\n",
        "    for acessou_home, acessou_como_funciona,\n",
        "    acessou_contato, comprou in leitor:\n",
        "\n",
        "        dados.append([acessou_home, \n",
        "            acessou_como_funciona,\n",
        "            acessou_contato])\n",
        "        marcacoes.append(comprou)\n",
        "\n",
        "    return dados, marcacoes\n",
        "\n",
        "```\n",
        "\n",
        "Lendo os dados:\n",
        "```\n",
        ">>> dados, marcacoes = carregar_acessos()\n",
        ">>> marcacoes\n",
        ">>> ['comprou', '0', '0', '0', '0', '0', '1', '0', '1', '0', '1', '1', '1', '0', '0', '0', '0', '0', '0', '0', '0', '0', '0', '0', '0', '1', '1', '1', '1', '0', '0', '0', '1', '0', '1', '1', '1', '1', '0', '0', '1', '0', '0', '0', '1', '0', '0', '1', '1', '0', '0', '0', '0', '1', '0', '1', '0', '1', '0', '1', '0', '1', '0', '0', '0', '1', '1', '0', '1', '1', '0', '0', '0', '0', '0', '0', '0', '0', '0', '0', '1', '0', '0', '0', '1', '1', '0', '0', '0', '0', '1', '1', '0', '0', '0', '0', '1', '0', '0', '0']\n",
        ">>> dados\n",
        ">>> [['acessou_home', 'acessou_como_funciona', 'acessou_contato'], ['1', '1', '0'], ['1', '1', '0'], ['1', '1', '0'], ['1', '1', '0'], ['1', '1', '0'], ['1', '0', '1'], ['1', '1', '0'], ['1', '0', '1'], ['1', '1', '0'], ['1', '0', '1'], ['1', '1', '0'], ['1', '0', '1'], ['0', '0', '1'], ['0', '0', '1'], ['0', '0', '1'], ['0', '0', '1'], ['0', '0', '1'], ['0', '1', '0'], ['0', '0', '1'], ['0', '1', '0'], ['0', '0', '1'], ['0', '1', '0'], ['0', '0', '1'], ['0', '1', '0'], ['1', '0', '1'], ['1', '1', '1'], ['1', '1', '1'], ['1', '0', '1'], ['0', '1', '0'], ['0', '0', '1'], ['0', '1', '0'], ['1', '0', '1'], ['0', '0', '1'], ['1', '0', '1'], ['1', '0', '1'], ['1', '0', '1'], ['1', '0', '1'], ['0', '0', '1'], ['1', '1', '0'], ['1', '0', '1'], ['0', '1', '0'], ['0', '0', '1'], ['0', '1', '0'], ['1', '0', '1'], ['0', '0', '1'], ['0', '0', '1'], ['1', '0', '1'], ['1', '0', '1'], ['1', '1', '0'], ['1', '1', '0'], ['1', '1', '0'], ['1', '1', '0'], ['1', '0', '1'], ['1', '1', '0'], ['1', '0', '1'], ['1', '1', '0'], ['1', '0', '1'], ['1', '1', '0'], ['1', '0', '1'], ['0', '0', '1'], ['1', '0', '1'], ['0', '1', '0'], ['0', '0', '1'], ['0', '1', '0'], ['1', '0', '1'], ['0', '1', '1'], ['0', '0', '1'], ['1', '0', '1'], ['1', '0', '1'], ['1', '1', '0'], ['1', '1', '0'], ['0', '0', '1'], ['0', '0', '1'], ['0', '0', '1'], ['0', '0', '1'], ['0', '1', '0'], ['0', '0', '1'], ['0', '1', '0'], ['0', '0', '1'], ['1', '1', '0'], ['0', '0', '1'], ['0', '0', '1'], ['0', '0', '1'], ['1', '0', '1'], ['1', '0', '1'], ['1', '1', '0'], ['1', '1', '0'], ['0', '0', '1'], ['0', '0', '1'], ['1', '0', '1'], ['1', '0', '1'], ['1', '1', '0'], ['1', '1', '0'], ['0', '0', '1'], ['0', '0', '1'], ['1', '1', '1'], ['0', '0', '1'], ['0', '1', '0'], ['0', '0', '0']]\n",
        ">>>\n",
        "```"
      ]
    },
    {
      "cell_type": "code",
      "metadata": {
        "colab": {
          "base_uri": "https://localhost:8080/"
        },
        "id": "g4ZPr7N6oZ03",
        "outputId": "6c3703fe-1985-46c5-9fc7-11abaa578b81"
      },
      "source": [
        "from sklearn.naive_bayes import MultinomialNB\n",
        "\n",
        "modelo = MultinomialNB()\n",
        "modelo.fit(x,y)"
      ],
      "execution_count": null,
      "outputs": [
        {
          "output_type": "execute_result",
          "data": {
            "text/plain": [
              "MultinomialNB(alpha=1.0, class_prior=None, fit_prior=True)"
            ]
          },
          "metadata": {
            "tags": []
          },
          "execution_count": 44
        }
      ]
    },
    {
      "cell_type": "code",
      "metadata": {
        "id": "GCnQcB7GpZHu"
      },
      "source": [
        "x_teste = [1,0,1]"
      ],
      "execution_count": null,
      "outputs": []
    },
    {
      "cell_type": "code",
      "metadata": {
        "id": "ab-slkInplIc"
      },
      "source": [
        "y_previsto = modelo.predict(x)"
      ],
      "execution_count": null,
      "outputs": []
    },
    {
      "cell_type": "code",
      "metadata": {
        "colab": {
          "base_uri": "https://localhost:8080/"
        },
        "id": "vNLTQj6cqF4J",
        "outputId": "9f3f6dad-3ad2-4a1e-a7c9-8d8a49dfbac6"
      },
      "source": [
        "diferencas = y_previsto - y\n",
        "\n",
        "acertos = [d for d in diferencas if d == 0]\n",
        "\n",
        "total_de_acertos = len(acertos)\n",
        "total_de_elementos = len(y_previsto)\n",
        "\n",
        "taxa_de_acerto = 100.0 * total_de_acertos / total_de_elementos\n",
        "\n",
        "print(total_de_elementos)\n",
        "print(total_de_acertos)\n",
        "print(taxa_de_acerto)"
      ],
      "execution_count": null,
      "outputs": [
        {
          "output_type": "stream",
          "text": [
            "99\n",
            "93\n",
            "93.93939393939394\n"
          ],
          "name": "stdout"
        }
      ]
    },
    {
      "cell_type": "markdown",
      "metadata": {
        "id": "Rh2RKgOYtv1B"
      },
      "source": [
        "# Aula 03: Classificação de Variáveis Categóricas"
      ]
    },
    {
      "cell_type": "markdown",
      "metadata": {
        "id": "PItWDz7O5wEv"
      },
      "source": [
        "Para variáveis categóricas, podemos migrar para colunas. Desta forma, realizo a discretização dos parâmetros. Exemplo:\n",
        "\n",
        " Para as variáveis categóricas:\n",
        "*   Java\n",
        "*   Algoritmos\n",
        "*   Ruby\n",
        "\n",
        "Podemos criar outras três colunas com os seguintes questionamentos:\n",
        "\n",
        "\n",
        "*   Foi pesquisado Java?\n",
        "*   Foi pesquisado Algoritmos?\n",
        "*   Foi pesquisado Ruby?\n",
        "\n",
        "Podemos então transformar o valor em 1 ou 0. E rodar os algoritmos de ML.\n",
        "\n",
        "\n",
        "\n",
        "\n",
        "\n",
        "\n",
        "\n",
        "\n",
        "\n"
      ]
    },
    {
      "cell_type": "code",
      "metadata": {
        "colab": {
          "base_uri": "https://localhost:8080/",
          "height": 206
        },
        "id": "ctzxbU3y5MpK",
        "outputId": "8e5d9c4d-b91a-43ef-bcd0-2a8b6f409ad2"
      },
      "source": [
        "clientes = pd.read_csv(\"https://s3.amazonaws.com/caelum-online-public/356-intro-machine-learning/busca.csv\")\n",
        "clientes.head()"
      ],
      "execution_count": null,
      "outputs": [
        {
          "output_type": "execute_result",
          "data": {
            "text/html": [
              "<div>\n",
              "<style scoped>\n",
              "    .dataframe tbody tr th:only-of-type {\n",
              "        vertical-align: middle;\n",
              "    }\n",
              "\n",
              "    .dataframe tbody tr th {\n",
              "        vertical-align: top;\n",
              "    }\n",
              "\n",
              "    .dataframe thead th {\n",
              "        text-align: right;\n",
              "    }\n",
              "</style>\n",
              "<table border=\"1\" class=\"dataframe\">\n",
              "  <thead>\n",
              "    <tr style=\"text-align: right;\">\n",
              "      <th></th>\n",
              "      <th>home</th>\n",
              "      <th>busca</th>\n",
              "      <th>logado</th>\n",
              "      <th>comprou</th>\n",
              "    </tr>\n",
              "  </thead>\n",
              "  <tbody>\n",
              "    <tr>\n",
              "      <th>0</th>\n",
              "      <td>0</td>\n",
              "      <td>algoritmos</td>\n",
              "      <td>1</td>\n",
              "      <td>1</td>\n",
              "    </tr>\n",
              "    <tr>\n",
              "      <th>1</th>\n",
              "      <td>0</td>\n",
              "      <td>java</td>\n",
              "      <td>0</td>\n",
              "      <td>1</td>\n",
              "    </tr>\n",
              "    <tr>\n",
              "      <th>2</th>\n",
              "      <td>1</td>\n",
              "      <td>algoritmos</td>\n",
              "      <td>0</td>\n",
              "      <td>1</td>\n",
              "    </tr>\n",
              "    <tr>\n",
              "      <th>3</th>\n",
              "      <td>1</td>\n",
              "      <td>ruby</td>\n",
              "      <td>1</td>\n",
              "      <td>0</td>\n",
              "    </tr>\n",
              "    <tr>\n",
              "      <th>4</th>\n",
              "      <td>1</td>\n",
              "      <td>ruby</td>\n",
              "      <td>0</td>\n",
              "      <td>1</td>\n",
              "    </tr>\n",
              "  </tbody>\n",
              "</table>\n",
              "</div>"
            ],
            "text/plain": [
              "   home       busca  logado  comprou\n",
              "0     0  algoritmos       1        1\n",
              "1     0        java       0        1\n",
              "2     1  algoritmos       0        1\n",
              "3     1        ruby       1        0\n",
              "4     1        ruby       0        1"
            ]
          },
          "metadata": {
            "tags": []
          },
          "execution_count": 48
        }
      ]
    },
    {
      "cell_type": "code",
      "metadata": {
        "id": "4xy9gM8S7kkp"
      },
      "source": [
        "clientes['algoritmos'] = clientes.eval(\"busca == 'algoritmos'\")\n",
        "clientes['java'] = clientes.eval(\"busca == 'java'\")\n",
        "clientes['ruby'] = clientes.eval(\"busca == 'ruby'\")"
      ],
      "execution_count": null,
      "outputs": []
    },
    {
      "cell_type": "code",
      "metadata": {
        "id": "sk45-ZGO8tum"
      },
      "source": [
        "X = clientes[['home','algoritmos','java','ruby','logado']]\n",
        "Y = clientes['comprou']"
      ],
      "execution_count": null,
      "outputs": []
    },
    {
      "cell_type": "code",
      "metadata": {
        "id": "-PXBHuHL9DAc"
      },
      "source": [
        "troca = {\n",
        "    True : '1',\n",
        "    False : '0'\n",
        "}"
      ],
      "execution_count": null,
      "outputs": []
    },
    {
      "cell_type": "code",
      "metadata": {
        "colab": {
          "base_uri": "https://localhost:8080/"
        },
        "id": "OLB0X2k086Hg",
        "outputId": "b25fc7bb-d93a-47dc-e48f-0884f4861714"
      },
      "source": [
        "X.algoritmos = X.algoritmos.map(troca)\n",
        "X.java = X.java.map(troca)\n",
        "X.ruby = X.ruby.map(troca)"
      ],
      "execution_count": null,
      "outputs": [
        {
          "output_type": "stream",
          "text": [
            "/usr/local/lib/python3.7/dist-packages/pandas/core/generic.py:5170: SettingWithCopyWarning: \n",
            "A value is trying to be set on a copy of a slice from a DataFrame.\n",
            "Try using .loc[row_indexer,col_indexer] = value instead\n",
            "\n",
            "See the caveats in the documentation: https://pandas.pydata.org/pandas-docs/stable/user_guide/indexing.html#returning-a-view-versus-a-copy\n",
            "  self[name] = value\n"
          ],
          "name": "stderr"
        }
      ]
    },
    {
      "cell_type": "code",
      "metadata": {
        "colab": {
          "base_uri": "https://localhost:8080/",
          "height": 206
        },
        "id": "2_xOdHhY9RVI",
        "outputId": "e2005764-b821-4b6e-9b5a-8288d79e38cd"
      },
      "source": [
        "X.head()"
      ],
      "execution_count": null,
      "outputs": [
        {
          "output_type": "execute_result",
          "data": {
            "text/html": [
              "<div>\n",
              "<style scoped>\n",
              "    .dataframe tbody tr th:only-of-type {\n",
              "        vertical-align: middle;\n",
              "    }\n",
              "\n",
              "    .dataframe tbody tr th {\n",
              "        vertical-align: top;\n",
              "    }\n",
              "\n",
              "    .dataframe thead th {\n",
              "        text-align: right;\n",
              "    }\n",
              "</style>\n",
              "<table border=\"1\" class=\"dataframe\">\n",
              "  <thead>\n",
              "    <tr style=\"text-align: right;\">\n",
              "      <th></th>\n",
              "      <th>home</th>\n",
              "      <th>algoritmos</th>\n",
              "      <th>java</th>\n",
              "      <th>ruby</th>\n",
              "      <th>logado</th>\n",
              "    </tr>\n",
              "  </thead>\n",
              "  <tbody>\n",
              "    <tr>\n",
              "      <th>0</th>\n",
              "      <td>0</td>\n",
              "      <td>1</td>\n",
              "      <td>0</td>\n",
              "      <td>0</td>\n",
              "      <td>1</td>\n",
              "    </tr>\n",
              "    <tr>\n",
              "      <th>1</th>\n",
              "      <td>0</td>\n",
              "      <td>0</td>\n",
              "      <td>1</td>\n",
              "      <td>0</td>\n",
              "      <td>0</td>\n",
              "    </tr>\n",
              "    <tr>\n",
              "      <th>2</th>\n",
              "      <td>1</td>\n",
              "      <td>1</td>\n",
              "      <td>0</td>\n",
              "      <td>0</td>\n",
              "      <td>0</td>\n",
              "    </tr>\n",
              "    <tr>\n",
              "      <th>3</th>\n",
              "      <td>1</td>\n",
              "      <td>0</td>\n",
              "      <td>0</td>\n",
              "      <td>1</td>\n",
              "      <td>1</td>\n",
              "    </tr>\n",
              "    <tr>\n",
              "      <th>4</th>\n",
              "      <td>1</td>\n",
              "      <td>0</td>\n",
              "      <td>0</td>\n",
              "      <td>1</td>\n",
              "      <td>0</td>\n",
              "    </tr>\n",
              "  </tbody>\n",
              "</table>\n",
              "</div>"
            ],
            "text/plain": [
              "   home algoritmos java ruby  logado\n",
              "0     0          1    0    0       1\n",
              "1     0          0    1    0       0\n",
              "2     1          1    0    0       0\n",
              "3     1          0    0    1       1\n",
              "4     1          0    0    1       0"
            ]
          },
          "metadata": {
            "tags": []
          },
          "execution_count": 53
        }
      ]
    },
    {
      "cell_type": "markdown",
      "metadata": {
        "id": "GEJh7pLz9x0c"
      },
      "source": [
        "Neste ponto, já temos os dados binários.\n",
        "\n",
        "Vamos testar os get-dummies"
      ]
    },
    {
      "cell_type": "code",
      "metadata": {
        "id": "cPEKuGiX-U0V"
      },
      "source": [
        "X_df = clientes[['home','busca','logado']]\n",
        "Y_df = clientes['comprou']"
      ],
      "execution_count": null,
      "outputs": []
    },
    {
      "cell_type": "code",
      "metadata": {
        "id": "cIUesUXs-GK6"
      },
      "source": [
        "Xdummies_df = pd.get_dummies(X_df)\n",
        "Ydummies_df = Y_df"
      ],
      "execution_count": null,
      "outputs": []
    },
    {
      "cell_type": "code",
      "metadata": {
        "id": "g38sD2gQ-vvx"
      },
      "source": [
        "X = Xdummies_df.values\n",
        "Y = Ydummies_df.values"
      ],
      "execution_count": null,
      "outputs": []
    },
    {
      "cell_type": "markdown",
      "metadata": {
        "id": "ZHdfU9mD_Gt_"
      },
      "source": [
        "Vamos iniciar o treino dos arquivos"
      ]
    },
    {
      "cell_type": "code",
      "metadata": {
        "colab": {
          "base_uri": "https://localhost:8080/"
        },
        "id": "9dWrfYhT_GT4",
        "outputId": "b56bead0-ac4e-42f6-c53e-f7fddfec8262"
      },
      "source": [
        "porcentagem_de_treino = 0.9\n",
        "tamanho_de_treino = int(porcentagem_de_treino*len(Y))\n",
        "tamanho_de_teste = int(len(Y) - tamanho_de_treino)\n",
        "print(tamanho_de_treino,tamanho_de_teste)"
      ],
      "execution_count": null,
      "outputs": [
        {
          "output_type": "stream",
          "text": [
            "900 100\n"
          ],
          "name": "stdout"
        }
      ]
    },
    {
      "cell_type": "code",
      "metadata": {
        "id": "_FAFUxGu-89l"
      },
      "source": [
        "treino_dados = X[:tamanho_de_treino]\n",
        "treino_marcacoes = Y[:tamanho_de_treino]\n",
        "\n",
        "teste_dados = X[-tamanho_de_teste:]\n",
        "teste_marcacoes = Y[-tamanho_de_teste:]"
      ],
      "execution_count": null,
      "outputs": []
    },
    {
      "cell_type": "code",
      "metadata": {
        "colab": {
          "base_uri": "https://localhost:8080/"
        },
        "id": "s0QHNiPSALaq",
        "outputId": "dabb1d3c-8373-48c5-b623-c09f86720cd1"
      },
      "source": [
        "from sklearn.naive_bayes import MultinomialNB\n",
        "modelo = MultinomialNB()\n",
        "modelo.fit(treino_dados, treino_marcacoes)\n",
        "\n",
        "resultado = modelo.predict(teste_dados)\n",
        "\n",
        "diferencas = resultado - teste_marcacoes\n",
        "\n",
        "acertos = [d for d in diferencas if d == 0]\n",
        "total_de_acertos = len(acertos)\n",
        "total_de_elementos = len(teste_dados)\n",
        "\n",
        "taxa_de_acerto = 100.0 * total_de_acertos / total_de_elementos\n",
        "\n",
        "print(taxa_de_acerto)\n",
        "print(total_de_elementos)"
      ],
      "execution_count": null,
      "outputs": [
        {
          "output_type": "stream",
          "text": [
            "82.0\n",
            "100\n"
          ],
          "name": "stdout"
        }
      ]
    },
    {
      "cell_type": "markdown",
      "metadata": {
        "id": "zcZr7YhYdff5"
      },
      "source": [
        "Vamos comparar com o dummy test."
      ]
    },
    {
      "cell_type": "code",
      "metadata": {
        "colab": {
          "base_uri": "https://localhost:8080/"
        },
        "id": "ZxhbB3mdfnUS",
        "outputId": "3322c806-5788-464e-fc25-297e6bb8d56e"
      },
      "source": [
        "len(Y)-Y.sum() # Números de 0"
      ],
      "execution_count": null,
      "outputs": [
        {
          "output_type": "execute_result",
          "data": {
            "text/plain": [
              "168"
            ]
          },
          "metadata": {
            "tags": []
          },
          "execution_count": 60
        }
      ]
    },
    {
      "cell_type": "code",
      "metadata": {
        "colab": {
          "base_uri": "https://localhost:8080/"
        },
        "id": "2STA6PSIA5VC",
        "outputId": "ee9cfae8-6b8c-47dc-99f8-da284e65fad6"
      },
      "source": [
        "Y.sum() #Números de 1"
      ],
      "execution_count": null,
      "outputs": [
        {
          "output_type": "execute_result",
          "data": {
            "text/plain": [
              "832"
            ]
          },
          "metadata": {
            "tags": []
          },
          "execution_count": 61
        }
      ]
    },
    {
      "cell_type": "code",
      "metadata": {
        "colab": {
          "base_uri": "https://localhost:8080/"
        },
        "id": "Iycrp9wpedJs",
        "outputId": "d635cc36-a6f5-4241-8582-7892859c8d7b"
      },
      "source": [
        "len(Y) # Total"
      ],
      "execution_count": null,
      "outputs": [
        {
          "output_type": "execute_result",
          "data": {
            "text/plain": [
              "1000"
            ]
          },
          "metadata": {
            "tags": []
          },
          "execution_count": 62
        }
      ]
    },
    {
      "cell_type": "code",
      "metadata": {
        "colab": {
          "base_uri": "https://localhost:8080/"
        },
        "id": "Z2DyciVwfpfW",
        "outputId": "404f162e-d53a-4eb0-b5ed-e832bfba28eb"
      },
      "source": [
        "acerto_de_um = sum(Y)\n",
        "acerto_de_zero = len(Y) - acerto_de_um\n",
        "taxa_de_acerto_base = 100.0 * max(acerto_de_um, acerto_de_zero) / len(Y)\n",
        "print(\"Taxa de acerto base: %.2f\" % taxa_de_acerto_base)\n",
        "print(\"Taxa de acerto do algoritmo: %.2f\" % taxa_de_acerto)\n",
        "\n",
        "# Sempre utilizar o de maior frequência\n",
        "# Exemplo errado. Pois está utilizando todo o dataset"
      ],
      "execution_count": null,
      "outputs": [
        {
          "output_type": "stream",
          "text": [
            "Taxa de acerto base: 83.20\n",
            "Taxa de acerto do algoritmo: 82.00\n"
          ],
          "name": "stdout"
        }
      ]
    },
    {
      "cell_type": "code",
      "metadata": {
        "colab": {
          "base_uri": "https://localhost:8080/"
        },
        "id": "s0l4rfV3gJB-",
        "outputId": "ab33d3d1-e4cf-4c12-e003-e2be7ae46678"
      },
      "source": [
        "#Utilizando agora o teste de baseline para o teste de treino_marcacoes\n",
        "\n",
        "acerto_de_um = sum(teste_marcacoes)\n",
        "acerto_de_zero = len(teste_marcacoes) - acerto_de_um\n",
        "taxa_de_acerto_base = 100.0 * max(acerto_de_um, acerto_de_zero) / len(teste_marcacoes)\n",
        "print(\"Taxa de acerto base: %.2f\" % taxa_de_acerto_base)\n",
        "print(\"Taxa de acerto do algoritmo: %.2f\" % taxa_de_acerto)\n",
        "\n",
        "#Algoritmos com mesmo resultado\n",
        "#Utilizando os dados corretos (dados de teste do dataset)"
      ],
      "execution_count": null,
      "outputs": [
        {
          "output_type": "stream",
          "text": [
            "Taxa de acerto base: 82.00\n",
            "Taxa de acerto do algoritmo: 82.00\n"
          ],
          "name": "stdout"
        }
      ]
    },
    {
      "cell_type": "markdown",
      "metadata": {
        "id": "HYgfFGeV7sRq"
      },
      "source": [
        "#Aula 04 e 05: Naive Bayes"
      ]
    },
    {
      "cell_type": "markdown",
      "metadata": {
        "id": "FF6dHGxw8iPC"
      },
      "source": [
        "## Três regras de decisão principais:\n",
        "\n",
        "**1.   Regra de Maior Chance**\n",
        "        \n",
        "        Sempre relacionado com a probabilidade de ser escolhida ser aquela de maior chance.\n",
        "\n",
        "**2.   Regra de Menor Chance**\n",
        "\n",
        "        Sempre relacionado com a probabilidade de ser escolhida ser aquela de menor chance.\n",
        "\n",
        "**3.   Regra da Probabilidade**\n",
        "\n",
        "        Definido como intervalos. Exemplo: de 0 a 30 (define 0), 31 a 100 (define 1)\n"
      ]
    },
    {
      "cell_type": "markdown",
      "metadata": {
        "id": "a8oxPKH8BM4O"
      },
      "source": [
        "## Variáveis Condicionais\n",
        "\n",
        "As variáveis condicionais são variáveis que permitem computarmos probabilidades diferentes em situações diferentes, por exemplo, os clientes do Rio de Janeiro possuem a probabilidade de 68,5% de comprar e 31,5% de não comprar, porém os de São Paulo possuem 27,5% de comprar e 72,5% de não comprar. Utilizamos esses tipos de variáveis justamente para computarmos esses diferentes cenários, ou seja, as diversas probabilidades que podemos obter em nosso negócio."
      ]
    },
    {
      "cell_type": "markdown",
      "metadata": {
        "id": "estOXP11BSrc"
      },
      "source": [
        "## Naive Bayes\n",
        "\n",
        "Muito utilizado, rápido e bem simples. Bastante usado para classificar textos.\n",
        "\n",
        "https://en.wikipedia.org/wiki/Naive_Bayes_classifier\n",
        "\n",
        "https://scikit-learn.org/stable/modules/naive_bayes.html"
      ]
    },
    {
      "cell_type": "markdown",
      "metadata": {
        "id": "Ri17DDsrQLgS"
      },
      "source": [
        "# Aula 06: Testando Diferentes Modelos e Validando o Melhor"
      ]
    },
    {
      "cell_type": "markdown",
      "metadata": {
        "id": "ibXROPI8StiR"
      },
      "source": [
        "## AdaBoost"
      ]
    },
    {
      "cell_type": "code",
      "metadata": {
        "colab": {
          "base_uri": "https://localhost:8080/"
        },
        "id": "ILkd-HCfTNpT",
        "outputId": "b3560040-ffe9-4ffe-a834-503604bac67e"
      },
      "source": [
        "Xdummies_df = pd.get_dummies(X_df)\n",
        "Ydummies_df = Y_df\n",
        "\n",
        "X = Xdummies_df.values\n",
        "Y = Ydummies_df.values\n",
        "\n",
        "porcentagem_de_treino = 0.9\n",
        "porcentagem_de_teste = 0.05\n",
        "\n",
        "tamanho_de_treino = int(porcentagem_de_treino * len(Y))\n",
        "tamanho_de_teste = int(porcentagem_de_teste * len(Y))\n",
        "tamanho_de_validacao = len(Y) - tamanho_de_treino - tamanho_de_teste\n",
        "\n",
        "# 0 até 799\n",
        "treino_dados = X[0:tamanho_de_treino]\n",
        "treino_marcacoes = Y[0  :tamanho_de_treino]\n",
        "\n",
        "# 800 até 899\n",
        "fim_de_teste = tamanho_de_treino + tamanho_de_teste\n",
        "teste_dados = X[tamanho_de_treino:fim_de_teste]\n",
        "teste_marcacoes = Y[tamanho_de_treino:fim_de_teste]\n",
        "\n",
        "# 900 até 999\n",
        "validacao_dados = X[fim_de_teste:]\n",
        "validacao_marcacoes = Y[fim_de_teste:]\n",
        "\n",
        "def fit_and_predict(nome, modelo, treino_dados, treino_marcacoes, teste_dados, teste_marcacoes):\n",
        "\tmodelo.fit(treino_dados, treino_marcacoes)\n",
        "\n",
        "\tresultado = modelo.predict(teste_dados)\n",
        "\tacertos = (resultado == teste_marcacoes)\n",
        "\ttotal_de_acertos = sum(acertos)\n",
        "\ttotal_de_elementos = len(teste_dados)\n",
        "\n",
        "\ttaxa_de_acerto = 100.0 * total_de_acertos / total_de_elementos\n",
        "\n",
        "\tmsg = \"Taxa de acerto do algoritmo {0}: {1}\".format(nome, taxa_de_acerto)\n",
        "\n",
        "\tprint(msg)\n",
        "\n",
        "\treturn taxa_de_acerto\n",
        "\n",
        "from sklearn.naive_bayes import MultinomialNB\n",
        "modeloMultinomial = MultinomialNB()\n",
        "resultadoMultinomial = fit_and_predict(\"MultinomialNB\", modeloMultinomial, treino_dados, treino_marcacoes, teste_dados, teste_marcacoes)\n",
        "\n",
        "from sklearn.ensemble import AdaBoostClassifier\n",
        "modeloAdaBoost = AdaBoostClassifier()\n",
        "resultadoAdaBoost = fit_and_predict(\"AdaBoostClassifier\", modeloAdaBoost, treino_dados, treino_marcacoes, teste_dados, teste_marcacoes)\n",
        "\n",
        "if resultadoMultinomial > resultadoAdaBoost:\n",
        "    vencedor = modeloMultinomial\n",
        "else:\n",
        "    vencedor = modeloAdaBoost\n",
        "\n",
        "resultado = vencedor.predict(validacao_dados)\n",
        "acertos = (resultado == validacao_marcacoes)\n",
        "total_de_acertos = sum(acertos)\n",
        "total_de_elementos = len(validacao_marcacoes)\n",
        "taxa_de_acerto = 100.0 * total_de_acertos / total_de_elementos\n",
        "\n",
        "msg = \"Taxa de acerto do vencedor entre os dois algoritmos no mundo real: {0}\".format(taxa_de_acerto)\n",
        "print(msg)\n",
        "\n",
        "# a eficácia do algoritmo que chuta tudo um único valor\n",
        "acerto_base = max(Counter(validacao_marcacoes).values())\n",
        "taxa_de_acerto_base = 100.0 * acerto_base / len(validacao_marcacoes)\n",
        "print(\"Taxa de acerto base: %f\" % taxa_de_acerto_base)\n",
        "\n",
        "total_de_elementos = len(validacao_dados)\n",
        "print(\"Total de teste: %d\" % total_de_elementos)"
      ],
      "execution_count": null,
      "outputs": [
        {
          "output_type": "stream",
          "text": [
            "Taxa de acerto do algoritmo MultinomialNB: 86.0\n",
            "Taxa de acerto do algoritmo AdaBoostClassifier: 88.0\n",
            "Taxa de acerto do vencedor entre os dois algoritmos no mundo real: 82.0\n",
            "Taxa de acerto base: 78.000000\n",
            "Total de teste: 50\n"
          ],
          "name": "stdout"
        }
      ]
    },
    {
      "cell_type": "markdown",
      "metadata": {
        "id": "CkyW1TJnWGeC"
      },
      "source": [
        "Percebi que o teste e treino com os parâmetros menores (utilizando uma amostra menor), obtém-se um modelo NB mais assertivo. "
      ]
    },
    {
      "cell_type": "code",
      "metadata": {
        "id": "CVWu2sdIWXPP"
      },
      "source": [
        ""
      ],
      "execution_count": null,
      "outputs": []
    }
  ]
}